{
 "cells": [
  {
   "cell_type": "markdown",
   "metadata": {},
   "source": [
    "# Variablen setzen (strings)"
   ]
  },
  {
   "cell_type": "code",
   "execution_count": 10,
   "metadata": {},
   "outputs": [
    {
     "name": "stdout",
     "output_type": "stream",
     "text": [
      "Um die Werte und Ziele des Transhumanismus in Deutschland bekannt zu machen und auch in politische Diskussionen mit einzubringen, wurde im September 2015 die „Transhumane Partei Deutschland“ (kurz TPD) gegründet, die Visionen aufzeigen will sowie insbesondere einen rationalen und transparenten Dialog über die aktuellen Herausforderungen führen möchte, die durch Technologie entstehen. Darüber hinaus ist es das Bestreben von uns, der TPD, durch das Prinzip der öffentlichen Wissenschaft, zusammen mit Experten und gemeinsam als demokratische Gesellschaft, Lösungskonzepte für aktuelle und zukünftige Probleme zu erarbeiten, die Aufgeschlossenheit gegenüber neuen Technologien zu fördern und deren Chancen zum Wohle aller zu nutzen.\n"
     ]
    }
   ],
   "source": [
    "trans = \"\"\"Um die Werte und Ziele des Transhumanismus in Deutschland bekannt zu machen und auch in politische Diskussionen mit einzubringen, wurde im September 2015 die „Transhumane Partei Deutschland“ (kurz TPD) gegründet, die Visionen aufzeigen will sowie insbesondere einen rationalen und transparenten Dialog über die aktuellen Herausforderungen führen möchte, die durch Technologie entstehen. Darüber hinaus ist es das Bestreben von uns, der TPD, durch das Prinzip der öffentlichen Wissenschaft, zusammen mit Experten und gemeinsam als demokratische Gesellschaft, Lösungskonzepte für aktuelle und zukünftige Probleme zu erarbeiten, die Aufgeschlossenheit gegenüber neuen Technologien zu fördern und deren Chancen zum Wohle aller zu nutzen.\"\"\"\n",
    "print(trans)"
   ]
  },
  {
   "cell_type": "markdown",
   "metadata": {},
   "source": [
    "\n"
   ]
  },
  {
   "cell_type": "markdown",
   "metadata": {},
   "source": [
    "---\n",
    "# tokenization mit textblob-de "
   ]
  },
  {
   "cell_type": "code",
   "execution_count": 11,
   "metadata": {},
   "outputs": [
    {
     "name": "stdout",
     "output_type": "stream",
     "text": [
      "Um die Werte und Ziele des Transhumanismus in Deutschland bekannt zu machen und auch in politische Diskussionen mit einzubringen, wurde im September 2015 die „Transhumane Partei Deutschland“ (kurz TPD) gegründet, die Visionen aufzeigen will sowie insbesondere einen rationalen und transparenten Dialog über die aktuellen Herausforderungen führen möchte, die durch Technologie entstehen. Darüber hinaus ist es das Bestreben von uns, der TPD, durch das Prinzip der öffentlichen Wissenschaft, zusammen mit Experten und gemeinsam als demokratische Gesellschaft, Lösungskonzepte für aktuelle und zukünftige Probleme zu erarbeiten, die Aufgeschlossenheit gegenüber neuen Technologien zu fördern und deren Chancen zum Wohle aller zu nutzen.\n"
     ]
    }
   ],
   "source": [
    "from textblob_de import Word\n",
    "from textblob_de import TextBlobDE as TextBlob\n",
    "transblob=TextBlob(trans)\n",
    "print(transblob)"
   ]
  },
  {
   "cell_type": "code",
   "execution_count": 12,
   "metadata": {},
   "outputs": [
    {
     "name": "stdout",
     "output_type": "stream",
     "text": [
      "um die werte und ziele des transhumanismus in deutschland bekannt zu machen und auch in politische diskussionen mit einzubringen, wurde im september 2015 die „transhumane partei deutschland“ (kurz tpd) gegründet, die visionen aufzeigen will sowie insbesondere einen rationalen und transparenten dialog über die aktuellen herausforderungen führen möchte, die durch technologie entstehen. darüber hinaus ist es das bestreben von uns, der tpd, durch das prinzip der öffentlichen wissenschaft, zusammen mit experten und gemeinsam als demokratische gesellschaft, lösungskonzepte für aktuelle und zukünftige probleme zu erarbeiten, die aufgeschlossenheit gegenüber neuen technologien zu fördern und deren chancen zum wohle aller zu nutzen.\n"
     ]
    }
   ],
   "source": [
    "#lowercase\n",
    "##https://textblob.readthedocs.io/en/dev/api_reference.html\n",
    "blob_Wl=TextBlob(trans).lower()\n",
    "print(blob_Wl)"
   ]
  },
  {
   "cell_type": "code",
   "execution_count": 16,
   "metadata": {},
   "outputs": [
    {
     "name": "stdout",
     "output_type": "stream",
     "text": [
      "sentences:  [Sentence(\"Um die Werte und Ziele des Transhumanismus in Deutschland bekannt zu machen und auch in politische Diskussionen mit einzubringen, wurde im September 2015 die „Transhumane Partei Deutschland“ (kurz TPD) gegründet, die Visionen aufzeigen will sowie insbesondere einen rationalen und transparenten Dialog über die aktuellen Herausforderungen führen möchte, die durch Technologie entstehen.\"), Sentence(\"Darüber hinaus ist es das Bestreben von uns, der TPD, durch das Prinzip der öffentlichen Wissenschaft, zusammen mit Experten und gemeinsam als demokratische Gesellschaft, Lösungskonzepte für aktuelle und zukünftige Probleme zu erarbeiten, die Aufgeschlossenheit gegenüber neuen Technologien zu fördern und deren Chancen zum Wohle aller zu nutzen.\")] \n",
      "\n",
      "words1:  ['Um', 'die', 'Werte', 'und', 'Ziele', 'des', 'Transhumanismus', 'in', 'Deutschland', 'bekannt', 'zu', 'machen', 'und', 'auch', 'in', 'politische', 'Diskussionen', 'mit', 'einzubringen', ',', 'wurde', 'im', 'September', '2015', 'die', '„', 'Transhumane', 'Partei', 'Deutschland', '“', '(', 'kurz', 'TPD', ')', 'gegründet', ',', 'die', 'Visionen', 'aufzeigen', 'will', 'sowie', 'insbesondere', 'einen', 'rationalen', 'und', 'transparenten', 'Dialog', 'über', 'die', 'aktuellen', 'Herausforderungen', 'führen', 'möchte', ',', 'die', 'durch', 'Technologie', 'entstehen', '.', 'Darüber', 'hinaus', 'ist', 'es', 'das', 'Bestreben', 'von', 'uns', ',', 'der', 'TPD', ',', 'durch', 'das', 'Prinzip', 'der', 'öffentlichen', 'Wissenschaft', ',', 'zusammen', 'mit', 'Experten', 'und', 'gemeinsam', 'als', 'demokratische', 'Gesellschaft', ',', 'Lösungskonzepte', 'für', 'aktuelle', 'und', 'zukünftige', 'Probleme', 'zu', 'erarbeiten', ',', 'die', 'Aufgeschlossenheit', 'gegenüber', 'neuen', 'Technologien', 'zu', 'fördern', 'und', 'deren', 'Chancen', 'zum', 'Wohle', 'aller', 'zu', 'nutzen', '.'] \n",
      "\n",
      "words2:  ['Um', 'die', 'Werte', 'und', 'Ziele', 'des', 'Transhumanismus', 'in', 'Deutschland', 'bekannt', 'zu', 'machen', 'und', 'auch', 'in', 'politische', 'Diskussionen', 'mit', 'einzubringen', 'wurde', 'im', 'September', '2015', 'die', '„', 'Transhumane', 'Partei', 'Deutschland', '“', 'kurz', 'TPD', 'gegründet', 'die', 'Visionen', 'aufzeigen', 'will', 'sowie', 'insbesondere', 'einen', 'rationalen', 'und', 'transparenten', 'Dialog', 'über', 'die', 'aktuellen', 'Herausforderungen', 'führen', 'möchte', 'die', 'durch', 'Technologie', 'entstehen', 'Darüber', 'hinaus', 'ist', 'es', 'das', 'Bestreben', 'von', 'uns', 'der', 'TPD', 'durch', 'das', 'Prinzip', 'der', 'öffentlichen', 'Wissenschaft', 'zusammen', 'mit', 'Experten', 'und', 'gemeinsam', 'als', 'demokratische', 'Gesellschaft', 'Lösungskonzepte', 'für', 'aktuelle', 'und', 'zukünftige', 'Probleme', 'zu', 'erarbeiten', 'die', 'Aufgeschlossenheit', 'gegenüber', 'neuen', 'Technologien', 'zu', 'fördern', 'und', 'deren', 'Chancen', 'zum', 'Wohle', 'aller', 'zu', 'nutzen'] \n",
      "\n"
     ]
    }
   ],
   "source": [
    "#unterschiedliche Tokenizer\n",
    "##siehe auch: http://text-processing.com/demo/tokenize/\n",
    "\n",
    "#1. Hier werden uns die einzelnen Sätze genannt.\n",
    "print(\"sentences: \", transblob.sentences, \"\\n\") \n",
    "#2. Hier werden uns die einzelnen Elemente der Sätze genannt.\n",
    "print(\"words1: \", transblob.tokens, \"\\n\") \n",
    "#3. oder auch (hier kommt die punktation gleich mit raus)\n",
    "print(\"words2: \", transblob.words, \"\\n\") \n"
   ]
  },
  {
   "cell_type": "code",
   "execution_count": 58,
   "metadata": {},
   "outputs": [
    {
     "name": "stdout",
     "output_type": "stream",
     "text": [
      "['um', 'die', 'Werte', 'und', 'Ziele', 'des', 'Transhumanismus', 'in', 'Deutschland', 'bekennen', 'zu', 'machen', 'und', 'auch', 'in', 'politisch', 'Diskussionen', 'mit', 'einzubringen', 'werden', 'im', 'September', '2015', 'die', '„', 'Transhumane', 'Partei', 'Deutschland', '“', 'kurz', 'Tpd', 'gründen', 'die', 'Visionen', 'aufzeigen', 'wollen', 'sowie', 'insbesondere', 'ein', 'rational', 'und', 'transparent', 'Dialog', 'über', 'die', 'aktuell', 'Herausforderungen', 'führen', 'mögen', 'die', 'durch', 'Technologie', 'entstehen', 'Darüber', 'hinaus', 'sein', 'es', 'das', 'Bestreben', 'von', 'uns', 'der', 'Tpd', 'durch', 'das', 'Prinzip', 'der', 'öffentlich', 'Wissenschaft', 'zusammen', 'mit', 'Experten', 'und', 'gemeinsam', 'als', 'demokratisch', 'Gesellschaft', 'Lösungskonzepte', 'für', 'aktuell', 'und', 'zukünftig', 'Probleme', 'zu', 'erarbeiten', 'die', 'Aufgeschlossenheit', 'gegenüber', 'neu', 'Technologien', 'zu', 'fördern', 'und', 'der', 'Chancen', 'zum', 'Wohle', 'all', 'zu', 'nutzen']\n"
     ]
    }
   ],
   "source": [
    "#tokenization & lemmatization\n",
    "lemmablob=transblob.words.lemmatize()\n",
    "print(lemmablob)"
   ]
  },
  {
   "cell_type": "code",
   "execution_count": 1,
   "metadata": {},
   "outputs": [
    {
     "name": "stdout",
     "output_type": "stream",
     "text": [
      "{'dir', 'mir', 'anderes', 'bei', 'demselben', 'jetzt', 'wollte', 'aller', 'keine', 'seinen', 'unseren', 'was', 'einiges', 'will', 'nach', 'von', 'ihres', 'selbst', 'solches', 'diese', 'deines', 'jenem', 'dann', 'denn', 'dass', 'dieselbe', 'der', 'seinem', 'einig', 'andern', 'war', 'haben', 'oder', 'solche', 'dem', 'sie', 'einiger', 'ich', 'eures', 'derselben', 'eine', 'einer', 'nichts', 'einmal', 'nicht', 'aber', 'da', 'euch', 'jede', 'anderen', 'sein', 'jedem', 'euer', 'gegen', 'und', 'wir', 'solchem', 'wirst', 'auf', 'sondern', 'den', 'an', 'uns', 'musste', 'meinem', 'unter', 'manche', 'andere', 'sollte', 'dazu', 'keinem', 'vor', 'zur', 'hin', 'welchen', 'aus', 'keines', 'durch', 'unseres', 'welches', 'weg', 'weil', 'werde', 'mein', 'derselbe', 'noch', 'dies', 'ihm', 'würde', 'hier', 'zwar', 'jener', 'zu', 'welcher', 'euren', 'alle', 'du', 'das', 'nur', 'seines', 'hab', 'dessen', 'jeder', 'weiter', 'er', 'ihrer', 'einen', 'ohne', 'ein', 'eurer', 'ihn', 'dort', 'um', 'also', 'einigen', 'anderr', 'diesem', 'wo', 'bist', 'sehr', 'anderem', 'auch', 'könnte', 'deine', 'vom', 'meinen', 'keinen', 'hinter', 'ins', 'machen', 'einige', 'dich', 'eure', 'seine', 'wieder', 'manchem', 'kein', 'jenen', 'doch', 'können', 'habe', 'desselben', 'allen', 'deinem', 'hatten', 'meines', 'unsere', 'jene', 'in', 'zwischen', 'im', 'dein', 'jenes', 'viel', 'gewesen', 'dieselben', 'derer', 'unserem', 'bis', 'keiner', 'warst', 'am', 'etwas', 'welchem', 'hat', 'ihrem', 'nun', 'alles', 'ob', 'deiner', 'diesen', 'welche', 'indem', 'man', 'eines', 'manches', 'mancher', 'daß', 'während', 'bin', 'des', 'allem', 'dieser', 'meiner', 'würden', 'ist', 'als', 'eurem', 'kann', 'mit', 'über', 'manchen', 'ihren', 'wie', 'muss', 'anderer', 'solchen', 'ander', 'so', 'dieses', 'anders', 'damit', 'ihr', 'sind', 'jeden', 'wollen', 'solcher', 'sonst', 'zum', 'dasselbe', 'ihre', 'einem', 'jedes', 'seiner', 'wenn', 'werden', 'unser', 'deinen', 'einigem', 'mich', 'ihnen', 'soll', 'wird', 'denselben', 'es', 'hatte', 'waren', 'meine', 'die', 'für', 'anderm', 'sich'}\n"
     ]
    },
    {
     "ename": "NameError",
     "evalue": "name 'lemmablob' is not defined",
     "output_type": "error",
     "traceback": [
      "\u001b[0;31m---------------------------------------------------------------------------\u001b[0m",
      "\u001b[0;31mNameError\u001b[0m                                 Traceback (most recent call last)",
      "\u001b[0;32m<ipython-input-1-3d6c48bf9534>\u001b[0m in \u001b[0;36m<module>\u001b[0;34m\u001b[0m\n\u001b[1;32m      7\u001b[0m \u001b[0;31m#remove stopwords\u001b[0m\u001b[0;34m\u001b[0m\u001b[0;34m\u001b[0m\u001b[0;34m\u001b[0m\u001b[0m\n\u001b[1;32m      8\u001b[0m \u001b[0mfiltered_sent\u001b[0m\u001b[0;34m=\u001b[0m\u001b[0;34m[\u001b[0m\u001b[0;34m]\u001b[0m\u001b[0;34m\u001b[0m\u001b[0;34m\u001b[0m\u001b[0m\n\u001b[0;32m----> 9\u001b[0;31m \u001b[0;32mfor\u001b[0m \u001b[0mw\u001b[0m \u001b[0;32min\u001b[0m \u001b[0mlemmablob\u001b[0m\u001b[0;34m:\u001b[0m\u001b[0;34m\u001b[0m\u001b[0;34m\u001b[0m\u001b[0m\n\u001b[0m\u001b[1;32m     10\u001b[0m     \u001b[0;32mif\u001b[0m \u001b[0mw\u001b[0m \u001b[0;32mnot\u001b[0m \u001b[0;32min\u001b[0m \u001b[0mstop_words\u001b[0m\u001b[0;34m:\u001b[0m\u001b[0;34m\u001b[0m\u001b[0;34m\u001b[0m\u001b[0m\n\u001b[1;32m     11\u001b[0m         \u001b[0mfiltered_sent\u001b[0m\u001b[0;34m.\u001b[0m\u001b[0mappend\u001b[0m\u001b[0;34m(\u001b[0m\u001b[0mw\u001b[0m\u001b[0;34m)\u001b[0m\u001b[0;34m\u001b[0m\u001b[0;34m\u001b[0m\u001b[0m\n",
      "\u001b[0;31mNameError\u001b[0m: name 'lemmablob' is not defined"
     ]
    }
   ],
   "source": [
    "#stoppwörter raus mit NLTK\n",
    "from nltk.corpus import stopwords\n",
    "\n",
    "stop_words=set(stopwords.words(\"german\"))\n",
    "print(stop_words)\n",
    "\n",
    "#remove stopwords\n",
    "filtered_sent=[]\n",
    "for w in lemmablob:\n",
    "    if w not in stop_words:\n",
    "        filtered_sent.append(w)\n",
    "print(\"Filterd Sentence:\",filtered_sent, \"\\n\")"
   ]
  },
  {
   "cell_type": "code",
   "execution_count": 60,
   "metadata": {},
   "outputs": [
    {
     "name": "stdout",
     "output_type": "stream",
     "text": [
      "Filterd Sentence as Blob:  Werte Ziele Transhumanismus Deutschland bekennen politisch Diskussionen einzubringen September 2015 „ Transhumane Partei Deutschland “ kurz Tpd gründen Visionen aufzeigen sowie insbesondere rational transparent Dialog aktuell Herausforderungen führen mögen Technologie entstehen Darüber hinaus Bestreben Tpd Prinzip öffentlich Wissenschaft zusammen Experten gemeinsam demokratisch Gesellschaft Lösungskonzepte aktuell zukünftig Probleme erarbeiten Aufgeschlossenheit gegenüber neu Technologien fördern Chancen Wohle all nutzen \n",
      "\n",
      "['wert', 'Ziele', 'Transhumanismus', 'Deutschland', 'bekennen', 'politisch', 'Diskussionen', 'einzubringen', 'September', '2015', '„', 'Transhumane', 'Partei', 'Deutschland', '“', 'kurz', 'Tpd', 'gründen', 'Visionen', 'aufzeigen', 'sowie', 'insbesondere', 'rational', 'transparent', 'Dialog', 'aktuell', 'Herausforderungen', 'führen', 'mögen', 'Technologie', 'entstehen', 'Darüber', 'hinaus', 'Bestreben', 'Tpd', 'Prinzip', 'öffentlich', 'Wissenschaft', 'zusammen', 'Experten', 'gemeinsam', 'demokratisch', 'Gesellschaft', 'Lösungskonzepte', 'aktuell', 'zukünftig', 'Probleme', 'erarbeiten', 'Aufgeschlossenheit', 'gegenüber', 'neu', 'Technologien', 'fördern', 'Chancen', 'Wohle', 'all', 'nutzen'] \n",
      "\n"
     ]
    }
   ],
   "source": [
    "#weiterbearbeiten mit textblob\n",
    "#hierfür muß zuerst:\n",
    "##Umwandlung von list to string\n",
    "stopstr=' '.join(filtered_sent)\n",
    "\n",
    "stopblob=TextBlob(stopstr)\n",
    "print(\"Filterd Sentence as Blob: \", stopblob, \"\\n\")\n",
    "\n",
    "#tokenization & lemmatization\n",
    "stopbloblemma=stopblob.words.lemmatize()\n",
    "print(stopbloblemma, \"\\n\")"
   ]
  },
  {
   "cell_type": "code",
   "execution_count": 61,
   "metadata": {},
   "outputs": [
    {
     "name": "stdout",
     "output_type": "stream",
     "text": [
      "We called him Tortoise because he taught us .\n",
      "We;called;him;Tortoise;because;he;taught;us;.\n",
      "WecalledhimTortoisebecausehetaughtus.\n"
     ]
    }
   ],
   "source": [
    "# Umwandlung von list to string\n",
    "\n",
    "silly = ['We', 'called', 'him', 'Tortoise', 'because', 'he', 'taught', 'us', '.']\n",
    "print(' '.join(silly))\n",
    "print(';'.join(silly))\n",
    "print(''.join(silly))"
   ]
  },
  {
   "cell_type": "code",
   "execution_count": 62,
   "metadata": {},
   "outputs": [
    {
     "name": "stdout",
     "output_type": "stream",
     "text": [
      "wortarten:  [('Werte', 'JJ'), ('Ziele', 'NN'), ('Transhumanismus', 'NN'), ('Deutschland', 'NNP'), ('bekennen', 'VB'), ('politisch', 'JJ'), ('Diskussionen', 'NN'), ('einzubringen', 'NN'), ('September', 'NN'), ('2015', 'CD'), ('„', 'NN'), ('Transhumane', 'NN'), ('Partei', 'NN'), ('Deutschland', 'NNP'), ('kurz', 'JJ'), ('Tpd', 'NN'), ('gründen', 'PRP$'), ('Visionen', 'NN'), ('aufzeigen', 'VB'), ('sowie', 'CC'), ('insbesondere', 'RB'), ('rational', 'IN'), ('transparent', 'NN'), ('Dialog', 'NN'), ('aktuell', 'JJ'), ('Herausforderungen', 'NN'), ('führen', 'VB'), ('mögen', 'PRP$'), ('Technologie', 'NN'), ('entstehen', 'VB'), ('Darüber', 'RB'), ('hinaus', 'IN'), ('Bestreben', 'NN'), ('Tpd', 'NN'), ('Prinzip', 'NN'), ('öffentlich', 'JJ'), ('Wissenschaft', 'NN'), ('zusammen', 'IN'), ('Experten', 'NN'), ('gemeinsam', 'RB'), ('demokratisch', 'JJ'), ('Gesellschaft', 'NN'), ('Lösungskonzepte', 'NN'), ('aktuell', 'JJ'), ('zukünftig', 'IN'), ('Probleme', 'NN'), ('erarbeiten', 'PRP$'), ('Aufgeschlossenheit', 'NN'), ('gegenüber', 'IN'), ('neu', 'JJ'), ('Technologien', 'NN'), ('fördern', 'PRP$'), ('Chancen', 'NN'), ('Wohle', 'NN'), ('all', 'DT'), ('nutzen', 'VB')] \n",
      "\n"
     ]
    }
   ],
   "source": [
    "#Wortarten nach der Penn Treebank-Stadandards Tabelle ansehen:\n",
    "## VB = Verb Basisform\n",
    "## NN = Nomen im Singular\n",
    "## DT = Artikel\n",
    "## JJ = Adjektiv\n",
    "## PRP = Personalpronom\n",
    "print(\"wortarten: \", stopblob.tags, \"\\n\") "
   ]
  },
  {
   "cell_type": "code",
   "execution_count": 63,
   "metadata": {},
   "outputs": [
    {
     "name": "stdout",
     "output_type": "stream",
     "text": [
      "              WORD   TAG    CHUNK   ROLE   ID     PNP    LEMMA                \n",
      "                                                                              \n",
      "             Werte   JJ     NP      -      -      -      wert                 \n",
      "             Ziele   NN     NP ^    -      -      -      ziele                \n",
      "   Transhumanismus   NN     NP ^    -      -      -      transhumanismus      \n",
      "       Deutschland   NNP    NP ^    -      -      -      deutschland          \n",
      "          bekennen   VB     VP      -      -      -      bekennen             \n",
      "         politisch   JJ     NP      -      -      -      politisch            \n",
      "      Diskussionen   NN     NP ^    -      -      -      diskussionen         \n",
      "      einzubringen   NN     NP ^    -      -      -      einzubringen         \n",
      "         September   NN     NP ^    -      -      -      september            \n",
      "              2015   CD     NP      -      -      -      2015                 \n",
      "                 „   NN     NP ^    -      -      -      „                    \n",
      "       Transhumane   NN     NP ^    -      -      -      transhumane          \n",
      "            Partei   NN     NP ^    -      -      -      partei               \n",
      "       Deutschland   NNP    NP ^    -      -      -      deutschland          \n",
      "                 “   \"      -       -      -      -      “                    \n",
      "              kurz   JJ     NP      -      -      -      kurz                 \n",
      "               Tpd   NN     NP ^    -      -      -      tpd                  \n",
      "           gründen   PRP$   NP ^    -      -      -      gründen              \n",
      "          Visionen   NN     NP ^    -      -      -      visionen             \n",
      "         aufzeigen   VB     VP      -      -      -      aufzeigen            \n",
      "             sowie   CC     -       -      -      -      sowie                \n",
      "      insbesondere   RB     ADVP    -      -      -      insbesondere         \n",
      "          rational   IN     PP      -      -      PNP    rational             \n",
      "       transparent   NN     NP      -      -      PNP    transparent          \n",
      "            Dialog   NN     NP ^    -      -      PNP    dialog               \n",
      "           aktuell   JJ     NP ^    -      -      PNP    aktuell              \n",
      " Herausforderungen   NN     NP ^    -      -      PNP    herausforderungen    \n",
      "            führen   VB     VP      -      -      -      führen               \n",
      "             mögen   PRP$   NP      -      -      -      mögen                \n",
      "       Technologie   NN     NP ^    -      -      -      technologie          \n",
      "         entstehen   VB     VP      -      -      -      entstehen            \n",
      "           Darüber   RB     ADVP    -      -      -      darüber              \n",
      "            hinaus   IN     PP      -      -      PNP    hinaus               \n",
      "         Bestreben   NN     NP      -      -      PNP    bestreben            \n",
      "               Tpd   NN     NP ^    -      -      PNP    tpd                  \n",
      "           Prinzip   NN     NP ^    -      -      PNP    prinzip              \n",
      "        öffentlich   JJ     NP ^    -      -      PNP    öffentlich           \n",
      "      Wissenschaft   NN     NP ^    -      -      PNP    wissenschaft         \n",
      "          zusammen   IN     PP      -      -      PNP    zusammen             \n",
      "          Experten   NN     NP      -      -      PNP    experten             \n",
      "         gemeinsam   RB     NP ^    -      -      PNP    gemeinsam            \n",
      "      demokratisch   JJ     NP ^    -      -      PNP    demokratisch         \n",
      "      Gesellschaft   NN     NP ^    -      -      PNP    gesellschaft         \n",
      "   Lösungskonzepte   NN     NP ^    -      -      PNP    lösungskonzepte      \n",
      "           aktuell   JJ     ADJP    -      -      -      aktuell              \n",
      "         zukünftig   IN     PP      -      -      PNP    zukünftig            \n",
      "          Probleme   NN     NP      -      -      PNP    probleme             \n",
      "        erarbeiten   PRP$   NP ^    -      -      PNP    erarbeiten           \n",
      "Aufgeschlossenheit   NN     NP ^    -      -      PNP    aufgeschlossenheit   \n",
      "         gegenüber   IN     PP      -      -      PNP    gegenüber            \n",
      "               neu   JJ     NP      -      -      PNP    neu                  \n",
      "      Technologien   NN     NP ^    -      -      PNP    technologien         \n",
      "           fördern   PRP$   NP ^    -      -      PNP    fördern              \n",
      "           Chancen   NN     NP ^    -      -      PNP    chancen              \n",
      "             Wohle   NN     NP ^    -      -      PNP    wohle                \n",
      "               all   DT     -       -      -      -      all                  \n",
      "            nutzen   VB     VP      -      -      -      nutzen               \n"
     ]
    }
   ],
   "source": [
    "#anzeigen als tabelle\n",
    "from textblob_de import PatternParser\n",
    "stopblob.parse(parser=PatternParser(pprint=True, lemmata=True))"
   ]
  }
 ],
 "metadata": {
  "kernelspec": {
   "display_name": "Python 3",
   "language": "python",
   "name": "python3"
  },
  "language_info": {
   "codemirror_mode": {
    "name": "ipython",
    "version": 3
   },
   "file_extension": ".py",
   "mimetype": "text/x-python",
   "name": "python",
   "nbconvert_exporter": "python",
   "pygments_lexer": "ipython3",
   "version": "3.7.8"
  }
 },
 "nbformat": 4,
 "nbformat_minor": 4
}
