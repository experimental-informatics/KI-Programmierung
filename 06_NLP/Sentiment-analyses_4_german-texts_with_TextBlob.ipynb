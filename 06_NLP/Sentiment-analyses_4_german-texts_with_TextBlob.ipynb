{
 "cells": [
  {
   "cell_type": "markdown",
   "metadata": {},
   "source": [
    "SEE MEDIAWIKI-PAGE: https://exmediawiki.khm.de/exmediawiki/index.php/Sentiment_analysis\n",
    "\n",
    "---"
   ]
  },
  {
   "cell_type": "markdown",
   "metadata": {},
   "source": [
    "![](https://s14-eu5.startpage.com/cgi-bin/serveimage?url=https%3A%2F%2Ftextblob.readthedocs.io%2Fen%2Fdev%2F_static%2Ftextblob-logo.png&sp=cc9edac2c88198f416e08381f0ffa027&anticache=287453)"
   ]
  },
  {
   "cell_type": "markdown",
   "metadata": {},
   "source": [
    "# Was ist textblob?\n",
    "\n",
    "TextBlob ist ein Tool für natural language processing (NLP) mit Python. \n",
    "\n",
    "Mit Textblob sind viele Ansätze wie etwa Erkennen von Wortarten, Extraktion von Substantiven, Stimmungsanalyse und auch Klassifizierungen möglich.\n"
   ]
  },
  {
   "cell_type": "markdown",
   "metadata": {},
   "source": [
    "### installieren von textblob-de\n",
    "\n",
    "type in Terminal:\n",
    "`pip install -U textblob-de`\n",
    "* Damit installieren wir textblob-de und sorgen mit `-U` dafür, dass alle notwendigen Abhängigkeiten auf die neueste Version gebracht werden.\n",
    "\n",
    "---\n",
    "\n",
    "type in Terminal:\n",
    "`python3 -m textblob.download_corpora`\n",
    "* hinzufügen der Sprachmodelle und Sprachdaten aus dem Natural Language Toolkit (NLTK).\n",
    "\n",
    "----\n",
    "### steps\n",
    "1. Module importieren\n",
    "2. Variable setzen\n",
    "3. tokenizen mit textblob-de \n",
    "4. jeweilige stimmung für die einzelnen Sätze ausgeben\n",
    "5. Gesamtstimmung ausgeben"
   ]
  },
  {
   "cell_type": "code",
   "execution_count": 11,
   "metadata": {},
   "outputs": [
    {
     "name": "stdout",
     "output_type": "stream",
     "text": [
      "Die Geschichtenerzähler machen weiter. die Autoindustrie macht weiter. die Arbeiter machen weiter. die Regierungen machen weiter. die Rock’n’Roll-Sänger machen weiter. die Preise machen weiter. das Papier macht weiter. die Tiere und Bäume machen weiter. Tag und Nacht macht weiter. der Mond geht auf. die Sonne geht auf. die Augen gehen auf. Türen gehen auf. der Mund geht auf. man spricht. man macht Zeichen. Zeichen an den Häuserwänden. Zeichen auf der Straße. Zeichen in den Maschinen. die bewegt werden. Bewegungen in den Zimmern. durch eine Wohnung. wenn niemand außer einem selbst da ist. Wind weht altes Zeitungspapier über einen leeren grauen Parkplatz. wilde Gebüsche und Gras wachsen in den liegengelassenen Trümmergrundstücken. mitten in der Innenstadt. ein Bauzaun ist blau gestrichen. an den Bauzaun ist ein Schild genagelt. Plakate ankleben Verboten. die Plakate. Bauzäune und Verbote machen weiter. die Fahrstühle machen weiter. die Häuserwände machen weiter. die Innenstadt macht weiter. die Vorstädte machen weiter … Auch alle Fragen machen weiter. wie alle Antworten weitermachen. Der Raum macht weiter. Ich mache die Augen auf und sehe auf ein weißes Stück Papier.\n"
     ]
    }
   ],
   "source": [
    "from textblob_de import Word\n",
    "from textblob_de import TextBlobDE as TextBlob\n",
    "\n",
    "amw1 = \"Die Geschichtenerzähler machen weiter. die Autoindustrie macht weiter. die Arbeiter machen weiter. die Regierungen machen weiter. die Rock’n’Roll-Sänger machen weiter. die Preise machen weiter. das Papier macht weiter. die Tiere und Bäume machen weiter. Tag und Nacht macht weiter. der Mond geht auf. die Sonne geht auf. die Augen gehen auf. Türen gehen auf. der Mund geht auf. man spricht. man macht Zeichen. Zeichen an den Häuserwänden. Zeichen auf der Straße. Zeichen in den Maschinen. die bewegt werden. Bewegungen in den Zimmern. durch eine Wohnung. wenn niemand außer einem selbst da ist. Wind weht altes Zeitungspapier über einen leeren grauen Parkplatz. wilde Gebüsche und Gras wachsen in den liegengelassenen Trümmergrundstücken. mitten in der Innenstadt. ein Bauzaun ist blau gestrichen. an den Bauzaun ist ein Schild genagelt. Plakate ankleben Verboten. die Plakate. Bauzäune und Verbote machen weiter. die Fahrstühle machen weiter. die Häuserwände machen weiter. die Innenstadt macht weiter. die Vorstädte machen weiter … Auch alle Fragen machen weiter. wie alle Antworten weitermachen. Der Raum macht weiter. Ich mache die Augen auf und sehe auf ein weißes Stück Papier.\"\n",
    "\n",
    "# Gedicht ausgeben\n",
    "print(amw1)"
   ]
  },
  {
   "cell_type": "code",
   "execution_count": 12,
   "metadata": {},
   "outputs": [
    {
     "name": "stdout",
     "output_type": "stream",
     "text": [
      "tokenized by sentences : \n",
      " [Sentence(\"Die Geschichtenerzähler machen weiter.\"), Sentence(\"die Autoindustrie macht weiter.\"), Sentence(\"die Arbeiter machen weiter.\"), Sentence(\"die Regierungen machen weiter.\"), Sentence(\"die Rock’n’Roll-Sänger machen weiter.\"), Sentence(\"die Preise machen weiter.\"), Sentence(\"das Papier macht weiter.\"), Sentence(\"die Tiere und Bäume machen weiter.\"), Sentence(\"Tag und Nacht macht weiter.\"), Sentence(\"der Mond geht auf.\"), Sentence(\"die Sonne geht auf.\"), Sentence(\"die Augen gehen auf.\"), Sentence(\"Türen gehen auf.\"), Sentence(\"der Mund geht auf.\"), Sentence(\"man spricht.\"), Sentence(\"man macht Zeichen.\"), Sentence(\"Zeichen an den Häuserwänden.\"), Sentence(\"Zeichen auf der Straße.\"), Sentence(\"Zeichen in den Maschinen.\"), Sentence(\"die bewegt werden.\"), Sentence(\"Bewegungen in den Zimmern.\"), Sentence(\"durch eine Wohnung.\"), Sentence(\"wenn niemand außer einem selbst da ist.\"), Sentence(\"Wind weht altes Zeitungspapier über einen leeren grauen Parkplatz.\"), Sentence(\"wilde Gebüsche und Gras wachsen in den liegengelassenen Trümmergrundstücken.\"), Sentence(\"mitten in der Innenstadt.\"), Sentence(\"ein Bauzaun ist blau gestrichen.\"), Sentence(\"an den Bauzaun ist ein Schild genagelt.\"), Sentence(\"Plakate ankleben Verboten.\"), Sentence(\"die Plakate.\"), Sentence(\"Bauzäune und Verbote machen weiter.\"), Sentence(\"die Fahrstühle machen weiter.\"), Sentence(\"die Häuserwände machen weiter.\"), Sentence(\"die Innenstadt macht weiter.\"), Sentence(\"die Vorstädte machen weiter … Auch alle Fragen machen weiter.\"), Sentence(\"wie alle Antworten weitermachen.\"), Sentence(\"Der Raum macht weiter.\"), Sentence(\"Ich mache die Augen auf und sehe auf ein weißes Stück Papier.\")] \n",
      "\n"
     ]
    }
   ],
   "source": [
    "#von string in Blob umwandeln\n",
    "amw_TB=TextBlob(amw1)\n",
    "\n",
    "# simples sentence-tokenizing mit textblob\n",
    "amw_s=amw_TB.sentences\n",
    "print(\"tokenized by sentences : \\n\", amw_s, \"\\n\")"
   ]
  },
  {
   "cell_type": "code",
   "execution_count": 16,
   "metadata": {},
   "outputs": [
    {
     "name": "stdout",
     "output_type": "stream",
     "text": [
      "Ausgabe, Stimmung >>  Die Geschichtenerzähler machen weiter. :  Sentiment(polarity=0.0, subjectivity=0.0) \n",
      "\n",
      "Ausgabe, Stimmung >>  die Autoindustrie macht weiter. :  Sentiment(polarity=0.0, subjectivity=0.0) \n",
      "\n",
      "Ausgabe, Stimmung >>  die Arbeiter machen weiter. :  Sentiment(polarity=0.0, subjectivity=0.0) \n",
      "\n",
      "Ausgabe, Stimmung >>  die Regierungen machen weiter. :  Sentiment(polarity=0.0, subjectivity=0.0) \n",
      "\n",
      "Ausgabe, Stimmung >>  die Rock’n’Roll-Sänger machen weiter. :  Sentiment(polarity=0.0, subjectivity=0.0) \n",
      "\n",
      "Ausgabe, Stimmung >>  die Preise machen weiter. :  Sentiment(polarity=0.0, subjectivity=0.0) \n",
      "\n",
      "Ausgabe, Stimmung >>  das Papier macht weiter. :  Sentiment(polarity=0.0, subjectivity=0.0) \n",
      "\n",
      "Ausgabe, Stimmung >>  die Tiere und Bäume machen weiter. :  Sentiment(polarity=0.0, subjectivity=0.0) \n",
      "\n",
      "Ausgabe, Stimmung >>  Tag und Nacht macht weiter. :  Sentiment(polarity=0.0, subjectivity=0.0) \n",
      "\n",
      "Ausgabe, Stimmung >>  der Mond geht auf. :  Sentiment(polarity=0.0, subjectivity=0.0) \n",
      "\n",
      "Ausgabe, Stimmung >>  die Sonne geht auf. :  Sentiment(polarity=0.0, subjectivity=0.0) \n",
      "\n",
      "Ausgabe, Stimmung >>  die Augen gehen auf. :  Sentiment(polarity=0.0, subjectivity=0.0) \n",
      "\n",
      "Ausgabe, Stimmung >>  Türen gehen auf. :  Sentiment(polarity=0.0, subjectivity=0.0) \n",
      "\n",
      "Ausgabe, Stimmung >>  der Mund geht auf. :  Sentiment(polarity=0.0, subjectivity=0.0) \n",
      "\n",
      "Ausgabe, Stimmung >>  man spricht. :  Sentiment(polarity=0.0, subjectivity=0.0) \n",
      "\n",
      "Ausgabe, Stimmung >>  man macht Zeichen. :  Sentiment(polarity=0.0, subjectivity=0.0) \n",
      "\n",
      "Ausgabe, Stimmung >>  Zeichen an den Häuserwänden. :  Sentiment(polarity=0.0, subjectivity=0.0) \n",
      "\n",
      "Ausgabe, Stimmung >>  Zeichen auf der Straße. :  Sentiment(polarity=0.0, subjectivity=0.0) \n",
      "\n",
      "Ausgabe, Stimmung >>  Zeichen in den Maschinen. :  Sentiment(polarity=0.0, subjectivity=0.0) \n",
      "\n",
      "Ausgabe, Stimmung >>  die bewegt werden. :  Sentiment(polarity=0.7, subjectivity=0.0) \n",
      "\n",
      "Ausgabe, Stimmung >>  Bewegungen in den Zimmern. :  Sentiment(polarity=0.0, subjectivity=0.0) \n",
      "\n",
      "Ausgabe, Stimmung >>  durch eine Wohnung. :  Sentiment(polarity=0.0, subjectivity=0.0) \n",
      "\n",
      "Ausgabe, Stimmung >>  wenn niemand außer einem selbst da ist. :  Sentiment(polarity=0.0, subjectivity=0.0) \n",
      "\n",
      "Ausgabe, Stimmung >>  Wind weht altes Zeitungspapier über einen leeren grauen Parkplatz. :  Sentiment(polarity=-0.7, subjectivity=0.0) \n",
      "\n",
      "Ausgabe, Stimmung >>  wilde Gebüsche und Gras wachsen in den liegengelassenen Trümmergrundstücken. :  Sentiment(polarity=-1.0, subjectivity=0.0) \n",
      "\n",
      "Ausgabe, Stimmung >>  mitten in der Innenstadt. :  Sentiment(polarity=0.0, subjectivity=0.0) \n",
      "\n",
      "Ausgabe, Stimmung >>  ein Bauzaun ist blau gestrichen. :  Sentiment(polarity=-0.7, subjectivity=0.0) \n",
      "\n",
      "Ausgabe, Stimmung >>  an den Bauzaun ist ein Schild genagelt. :  Sentiment(polarity=0.0, subjectivity=0.0) \n",
      "\n",
      "Ausgabe, Stimmung >>  Plakate ankleben Verboten. :  Sentiment(polarity=0.0, subjectivity=0.0) \n",
      "\n",
      "Ausgabe, Stimmung >>  die Plakate. :  Sentiment(polarity=0.0, subjectivity=0.0) \n",
      "\n",
      "Ausgabe, Stimmung >>  Bauzäune und Verbote machen weiter. :  Sentiment(polarity=0.0, subjectivity=0.0) \n",
      "\n",
      "Ausgabe, Stimmung >>  die Fahrstühle machen weiter. :  Sentiment(polarity=0.0, subjectivity=0.0) \n",
      "\n",
      "Ausgabe, Stimmung >>  die Häuserwände machen weiter. :  Sentiment(polarity=0.0, subjectivity=0.0) \n",
      "\n",
      "Ausgabe, Stimmung >>  die Innenstadt macht weiter. :  Sentiment(polarity=0.0, subjectivity=0.0) \n",
      "\n",
      "Ausgabe, Stimmung >>  die Vorstädte machen weiter … Auch alle Fragen machen weiter. :  Sentiment(polarity=0.0, subjectivity=0.0) \n",
      "\n",
      "Ausgabe, Stimmung >>  wie alle Antworten weitermachen. :  Sentiment(polarity=0.0, subjectivity=0.0) \n",
      "\n",
      "Ausgabe, Stimmung >>  Der Raum macht weiter. :  Sentiment(polarity=0.0, subjectivity=0.0) \n",
      "\n",
      "Ausgabe, Stimmung >>  Ich mache die Augen auf und sehe auf ein weißes Stück Papier. :  Sentiment(polarity=0.0, subjectivity=0.0) \n",
      "\n"
     ]
    },
    {
     "data": {
      "text/plain": [
       "'Die Stimmung lässt sich vom Wert in polarity abzulesen. Der Wert kann zwischen -1,0 und 1,0 liegen, wobei -1,0 eine sehr negative und 1,0 für eine ausgesprochen positive Stimmung stehen.'"
      ]
     },
     "execution_count": 16,
     "metadata": {},
     "output_type": "execute_result"
    }
   ],
   "source": [
    "# einzelne Sätze auslesen + Stimmung analysieren\n",
    "for i in amw_s:\n",
    "    print(\"Ausgabe, Stimmung >> \", i, \": \", i.sentiment, \"\\n\")\n",
    "    \n",
    "'''Die Stimmung lässt sich vom Wert in polarity abzulesen. Der Wert kann zwischen -1,0 und 1,0 liegen, wobei -1,0 eine sehr negative und 1,0 für eine ausgesprochen positive Stimmung stehen.'''"
   ]
  },
  {
   "cell_type": "code",
   "execution_count": 15,
   "metadata": {},
   "outputs": [
    {
     "name": "stdout",
     "output_type": "stream",
     "text": [
      "Ausgabe, Stimmung >> ganzes Gedicht:  Sentiment(polarity=-0.04473684210526316, subjectivity=0.0)\n"
     ]
    },
    {
     "data": {
      "text/plain": [
       "'da iss nix subjektives bei...^_*)'"
      ]
     },
     "execution_count": 15,
     "metadata": {},
     "output_type": "execute_result"
    }
   ],
   "source": [
    "#ganzes gedicht Stimmungsanalyse\n",
    "print(\"Ausgabe, Stimmung >> ganzes Gedicht: \", amw_TB.sentiment)\n",
    "'''da iss nix subjektives bei...^_*)'''"
   ]
  }
 ],
 "metadata": {
  "kernelspec": {
   "display_name": "Python 3",
   "language": "python",
   "name": "python3"
  },
  "language_info": {
   "codemirror_mode": {
    "name": "ipython",
    "version": 3
   },
   "file_extension": ".py",
   "mimetype": "text/x-python",
   "name": "python",
   "nbconvert_exporter": "python",
   "pygments_lexer": "ipython3",
   "version": "3.7.8"
  }
 },
 "nbformat": 4,
 "nbformat_minor": 4
}
