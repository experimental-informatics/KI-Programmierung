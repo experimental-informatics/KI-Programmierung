{
 "cells": [
  {
   "cell_type": "markdown",
   "metadata": {},
   "source": [
    "# Funktionen und Module"
   ]
  },
  {
   "cell_type": "markdown",
   "metadata": {},
   "source": [
    "Eine wichtige Regel in der Programmierung ist es, **Wiederholung zu vermeiden**. Dazu definieren wir wiederverwendbare **Funktionen** und verwenden schon vorhandene Funktionalität aus **Modulen**.\n",
    "\n",
    "## Funktionen sind die Bausteine eines Programms\n",
    "\n",
    "Eine Funktion ist ein Codeblock, der eine abgeschlossene Aufgabe erfüllt. Funktionen haben immer einen **Namen**, können **Argumente** annehmen und **Rückgabewerte** zurückgeben. In Python haben Funktionen folgende Syntax:\n",
    "\n",
    "```python\n",
    "def function_name(arguments):\n",
    "    # code here\n",
    "    return values\n",
    "```\n",
    "\n",
    "Ist die Funktion definiert, können wir sie mit folgender Syntax aufrufen:\n",
    "\n",
    "```python\n",
    "function_name(arguments)\n",
    "```\n",
    "\n",
    "Mit Funktionen können wir ein komplexes Problem in lösbare Teilprobleme zerlegen, die wir dann zu einem vollständigen Programm zusammensetzen.\n",
    "\n",
    "> **Beispiel:** Haben wir einmal eine Funktion geschrieben, die eine Liste sortiert, können wir immer darauf zurückgreifen, anstatt den Code jedes mal aufs Neue zu schreiben.\n",
    "\n",
    "> **Hinweis:** Nur weil du Code in Funktionen auslagern _kannst_ solltest du das nicht immer tun. Schreibe dann eine Funktion, wenn du dadurch Wiederholungen vermeidest oder das Programm klarer strukturierst. **Häufig ist eine Funktion dann sinnvoll, wenn du ihr einen deskriptiven Namen geben kannst.**"
   ]
  },
  {
   "cell_type": "markdown",
   "metadata": {},
   "source": [
    "### Argumente und Rückgabewerte\n",
    "\n",
    "Eine Funktion kann mehrere Argumente annehmen..."
   ]
  },
  {
   "cell_type": "code",
   "execution_count": 1,
   "metadata": {},
   "outputs": [
    {
     "name": "stdout",
     "output_type": "stream",
     "text": [
      "4\n",
      "4.2\n",
      "7.0\n"
     ]
    }
   ],
   "source": [
    "def add(a, b):\n",
    "    return a + b\n",
    "\n",
    "print(add(1,3))\n",
    "print(add(1.,3.2))\n",
    "print(add(4,3.))"
   ]
  },
  {
   "cell_type": "markdown",
   "metadata": {},
   "source": [
    "... und kann mehrere Werte zurückgeben:"
   ]
  },
  {
   "cell_type": "code",
   "execution_count": 2,
   "metadata": {},
   "outputs": [
    {
     "name": "stdout",
     "output_type": "stream",
     "text": [
      "(10, 2.5)\n"
     ]
    }
   ],
   "source": [
    "def double_and_halve(value):\n",
    "    return value * 2, value / 2\n",
    "\n",
    "print(double_and_halve(5))"
   ]
  },
  {
   "cell_type": "markdown",
   "metadata": {},
   "source": [
    "Die Rückgabewerte können wir einer oder mehreren Variablen zuweisen:"
   ]
  },
  {
   "cell_type": "code",
   "execution_count": 3,
   "metadata": {},
   "outputs": [
    {
     "name": "stdout",
     "output_type": "stream",
     "text": [
      "10.0\n",
      "2.5\n"
     ]
    }
   ],
   "source": [
    "d, h = double_and_halve(5.)\n",
    "print(d)\n",
    "print(h)"
   ]
  },
  {
   "cell_type": "markdown",
   "metadata": {},
   "source": [
    "Funktionen können **andere Funktionen aufrufen**:"
   ]
  },
  {
   "cell_type": "code",
   "execution_count": 4,
   "metadata": {},
   "outputs": [
    {
     "name": "stdout",
     "output_type": "stream",
     "text": [
      "doing A\n",
      "doing B\n"
     ]
    }
   ],
   "source": [
    "def do_a():\n",
    "    print(\"doing A\")\n",
    "    \n",
    "def do_b():\n",
    "    print(\"doing B\")\n",
    "    \n",
    "def do_a_and_b():\n",
    "    do_a()\n",
    "    do_b()\n",
    "    \n",
    "do_a_and_b()"
   ]
  },
  {
   "cell_type": "markdown",
   "metadata": {},
   "source": [
    "Argumente können auch einen **_default_-Wert** besitzen und damit **optional** sein:"
   ]
  },
  {
   "cell_type": "code",
   "execution_count": 5,
   "metadata": {},
   "outputs": [
    {
     "name": "stdout",
     "output_type": "stream",
     "text": [
      "Hello World!\n",
      "Hello Alice!\n"
     ]
    }
   ],
   "source": [
    "def say_hello(to_name=\"World\"):\n",
    "    print(\"Hello {}!\".format(to_name))\n",
    "say_hello()\n",
    "say_hello(\"Alice\")"
   ]
  },
  {
   "cell_type": "markdown",
   "metadata": {},
   "source": [
    "Argumente können in der **Reihenfolge** gegeben werden, in der die Funktion sie definiert, oder mit Angabe des Argumentnamens in beliebiger Reihenfolge:"
   ]
  },
  {
   "cell_type": "code",
   "execution_count": 6,
   "metadata": {},
   "outputs": [
    {
     "name": "stdout",
     "output_type": "stream",
     "text": [
      "Hello Alice! My name is Bob.\n",
      "Hello Alice! My name is Bob.\n"
     ]
    }
   ],
   "source": [
    "def say_hello(to_name=\"World\", my_name=None):\n",
    "    if my_name is None:\n",
    "        print(\"Hello {}!\".format(name))\n",
    "    else:\n",
    "        print(\"Hello {}! My name is {}.\".format(to_name, my_name))\n",
    "say_hello(\"Alice\", \"Bob\")\n",
    "say_hello(my_name=\"Bob\", to_name=\"Alice\")"
   ]
  },
  {
   "cell_type": "markdown",
   "metadata": {},
   "source": [
    "### Einzeilige `lambda`-Funktionen sind praktisch für Mathematik\n",
    "\n",
    "Mit der `lambda`-Funktionssyntax können wir Funktionen in nur einer Zeile definieren:\n",
    "\n",
    "```python\n",
    "function_name = lambda arguments: return_value\n",
    "```\n",
    "\n",
    "Das ist für mathematische Funktionen häufig sehr praktisch:"
   ]
  },
  {
   "cell_type": "code",
   "execution_count": 7,
   "metadata": {},
   "outputs": [
    {
     "data": {
      "text/plain": [
       "1"
      ]
     },
     "execution_count": 7,
     "metadata": {},
     "output_type": "execute_result"
    }
   ],
   "source": [
    "linear = lambda x, a, b: a * x + b\n",
    "linear(0, a=1, b=1)"
   ]
  }
 ],
 "metadata": {
  "kernelspec": {
   "display_name": "Python 3",
   "language": "python",
   "name": "python3"
  },
  "language_info": {
   "codemirror_mode": {
    "name": "ipython",
    "version": 3
   },
   "file_extension": ".py",
   "mimetype": "text/x-python",
   "name": "python",
   "nbconvert_exporter": "python",
   "pygments_lexer": "ipython3",
   "version": "3.7.7"
  }
 },
 "nbformat": 4,
 "nbformat_minor": 4
}
