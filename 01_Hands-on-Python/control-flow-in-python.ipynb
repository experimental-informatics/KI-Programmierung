{
 "cells": [
  {
   "cell_type": "markdown",
   "metadata": {},
   "source": [
    "# Control Flow"
   ]
  },
  {
   "cell_type": "markdown",
   "metadata": {},
   "source": [
    "- [`if`-Abfragen](#if-Abfragen)\n",
    "- [`for`-Schleifen](#for-Schleifen)\n",
    "- [`while`-Schleifen](#while-Schleifen)"
   ]
  },
  {
   "cell_type": "code",
   "execution_count": 25,
   "metadata": {},
   "outputs": [],
   "source": [
    "a = 1\n",
    "b = 3.14\n",
    "c = 'hello'\n",
    "d = [a, b, c]"
   ]
  },
  {
   "cell_type": "markdown",
   "metadata": {},
   "source": [
    "Doch um ein sinnvolles Programm zu schreiben benötigen wir sog. _Control Flow_ Anweisungen, die steuern, wie sich das Programm je nach Situation zu verhalten hat. Dazu gehören vor allem `if`-Abfragen und `for`- und `while`-Schleifen."
   ]
  },
  {
   "cell_type": "markdown",
   "metadata": {},
   "source": [
    "## `if`-Abfragen\n",
    "\n",
    "Die einfachste Form von _control flow_ ist die `if`-Abfrage. Ein Codeblock wird nur dann ausgeführt, wenn eine Bedingung den `bool`-Wert `True` ergibt. Ein optionaler `else`-Codeblock kann ausgeführt werden, wenn die Bedingung _nicht_ `True` ergibt. Die Syntax für `if`-Abfragen lautet wie folgt:\n",
    "```python\n",
    "if condition:\n",
    "    # do something\n",
    "elif condition:\n",
    "    # do something else\n",
    "else:\n",
    "    # do yet something else\n",
    "```\n",
    "Beachtet, dass die Codeblöcke nicht durch Steuerzeichen begrenzt werden. Stattdessen endet die Bedingung lediglich mit einem Doppelpunkt (`:`) und der zugehörige der Codeblock ist **eingerückt**.\n",
    "\n",
    "> **Hinweis:** In Python werden Codeblöcke durch Doppelpunkte und Einrückungen begrenzt. Per Konvention werden dazu jeweils vier Leerzeichen pro Einrückungslevel verwendet."
   ]
  },
  {
   "cell_type": "markdown",
   "metadata": {},
   "source": [
    "Verändere bspw. im folgenden Code den Wert von `a` und schaue, wie sich der Output verändert."
   ]
  },
  {
   "cell_type": "code",
   "execution_count": 26,
   "metadata": {},
   "outputs": [
    {
     "name": "stdout",
     "output_type": "stream",
     "text": [
      "a ist zu klein, setze auf 5\n",
      "a ist nun 5.\n"
     ]
    }
   ],
   "source": [
    "a = 1\n",
    "if a < 5:\n",
    "    print(\"a ist zu klein, setze auf 5\")\n",
    "    a = 5\n",
    "else:\n",
    "    print(\"a ist groß genug.\")\n",
    "print(\"a ist nun {}.\".format(a))"
   ]
  },
  {
   "cell_type": "markdown",
   "metadata": {},
   "source": [
    "Der erste Aufruf der `print`-Funktion und die Änderung des Werts von `a` wird nur ausgeführt, wenn der Wert von `a` kleiner als `5` ist. Ansonsten wird der `else`-Block ausgeführt. Der letzte Aufruf der `print`-Funktion wird jedoch immer ausgeführt."
   ]
  },
  {
   "cell_type": "markdown",
   "metadata": {},
   "source": [
    "### Vergleichs-Operatoren produzieren Booleans\n",
    "\n",
    "Die Bedingung der `if`-Abfrage kann alles sein, was einen `bool`-Wert zurückgibt.\n",
    "\n",
    "Werte von Datentypen, die Vergleiche unterstützen, können mit Vergleichs-Operatoren zu einem Boolean kombiniert werden:"
   ]
  },
  {
   "cell_type": "code",
   "execution_count": 27,
   "metadata": {},
   "outputs": [
    {
     "data": {
      "text/plain": [
       "False"
      ]
     },
     "execution_count": 27,
     "metadata": {},
     "output_type": "execute_result"
    }
   ],
   "source": [
    "1 == 3 # \"gleich\""
   ]
  },
  {
   "cell_type": "code",
   "execution_count": 28,
   "metadata": {},
   "outputs": [
    {
     "data": {
      "text/plain": [
       "True"
      ]
     },
     "execution_count": 28,
     "metadata": {},
     "output_type": "execute_result"
    }
   ],
   "source": [
    "1 != 3 # \"ungleich\""
   ]
  },
  {
   "cell_type": "code",
   "execution_count": 29,
   "metadata": {},
   "outputs": [
    {
     "data": {
      "text/plain": [
       "False"
      ]
     },
     "execution_count": 29,
     "metadata": {},
     "output_type": "execute_result"
    }
   ],
   "source": [
    "1 > 3 # \"größer\""
   ]
  },
  {
   "cell_type": "code",
   "execution_count": 30,
   "metadata": {},
   "outputs": [
    {
     "data": {
      "text/plain": [
       "True"
      ]
     },
     "execution_count": 30,
     "metadata": {},
     "output_type": "execute_result"
    }
   ],
   "source": [
    "3 <= 3.4 # \"kleiner oder gleich\""
   ]
  },
  {
   "cell_type": "markdown",
   "metadata": {},
   "source": [
    "> Die einfachsten Bedingungen sind die expliziten `bool`-Werte `True` und `False`. Beachte, dass `True` und `False` in Python mit großem Anfangsbuchstaben geschrieben werden."
   ]
  },
  {
   "cell_type": "markdown",
   "metadata": {},
   "source": [
    "### Logische Operatoren kombinieren Booleans\n",
    "\n",
    "Booleans können mit den logischen Operatoren `and`, `or` und `not` kombiniert werden:"
   ]
  },
  {
   "cell_type": "code",
   "execution_count": 31,
   "metadata": {},
   "outputs": [
    {
     "data": {
      "text/plain": [
       "False"
      ]
     },
     "execution_count": 31,
     "metadata": {},
     "output_type": "execute_result"
    }
   ],
   "source": [
    "True and False"
   ]
  },
  {
   "cell_type": "code",
   "execution_count": 32,
   "metadata": {},
   "outputs": [
    {
     "data": {
      "text/plain": [
       "True"
      ]
     },
     "execution_count": 32,
     "metadata": {},
     "output_type": "execute_result"
    }
   ],
   "source": [
    "True or False"
   ]
  },
  {
   "cell_type": "code",
   "execution_count": 33,
   "metadata": {},
   "outputs": [
    {
     "data": {
      "text/plain": [
       "False"
      ]
     },
     "execution_count": 33,
     "metadata": {},
     "output_type": "execute_result"
    }
   ],
   "source": [
    "not True"
   ]
  },
  {
   "cell_type": "code",
   "execution_count": 34,
   "metadata": {},
   "outputs": [
    {
     "data": {
      "text/plain": [
       "False"
      ]
     },
     "execution_count": 34,
     "metadata": {},
     "output_type": "execute_result"
    }
   ],
   "source": [
    "(False and (True or False)) or (False and True)"
   ]
  },
  {
   "cell_type": "markdown",
   "metadata": {},
   "source": [
    "### Weitere Bool'sche Operatoren\n",
    "\n",
    "Python stellt noch einige weitere nützliche Operatoren zur Verfügung."
   ]
  },
  {
   "cell_type": "markdown",
   "metadata": {},
   "source": [
    "- Der `in` Operator prüft, ob ein Wert in einer Reihe enthalten ist:"
   ]
  },
  {
   "cell_type": "code",
   "execution_count": 35,
   "metadata": {},
   "outputs": [
    {
     "data": {
      "text/plain": [
       "True"
      ]
     },
     "execution_count": 35,
     "metadata": {},
     "output_type": "execute_result"
    }
   ],
   "source": [
    "3 in [ 1, 3, 5 ]"
   ]
  },
  {
   "cell_type": "markdown",
   "metadata": {},
   "source": [
    "- Der `is` Operator prüft, ob zwei Objekte _identisch_ sind, also ein und dasselbe Objekt sind."
   ]
  },
  {
   "cell_type": "code",
   "execution_count": 36,
   "metadata": {},
   "outputs": [
    {
     "data": {
      "text/plain": [
       "(True, False)"
      ]
     },
     "execution_count": 36,
     "metadata": {},
     "output_type": "execute_result"
    }
   ],
   "source": [
    "s = \"Hello World\"\n",
    "t = \"Hello World\"\n",
    "s == t, s is t"
   ]
  },
  {
   "cell_type": "code",
   "execution_count": 37,
   "metadata": {},
   "outputs": [
    {
     "data": {
      "text/plain": [
       "(True, True)"
      ]
     },
     "execution_count": 37,
     "metadata": {},
     "output_type": "execute_result"
    }
   ],
   "source": [
    "1000 == 10**3, 1000 is 10**3"
   ]
  },
  {
   "cell_type": "markdown",
   "metadata": {},
   "source": [
    "> Meistens sind wir nur an der _Gleichheit_ von Werten interessiert und verwenden den Gleichheits-Operator (`==`). Die _Identität_ von Objekten wird erst in der _Objektorientierten Programmierung_ relevant wenn wir mit _Reference_-Typen arbeiten, statt wie bisher mit _Value_-Typen.\n",
    ">\n",
    "> Ein häufiger Anwendungsfall für den Identitäts-Operator `is` ist jedoch der Vergleich mit `None`. Das Symbol `None` stellt das Nicht-Vorhandensein eines Wertes in Python dar:"
   ]
  },
  {
   "cell_type": "code",
   "execution_count": 38,
   "metadata": {},
   "outputs": [
    {
     "name": "stdout",
     "output_type": "stream",
     "text": [
      "a hat keinen Wert!\n"
     ]
    }
   ],
   "source": [
    "a = None\n",
    "if a is None:\n",
    "    print(\"a hat keinen Wert!\")\n",
    "else:\n",
    "    print(\"a ist {}.\".format(a))"
   ]
  },
  {
   "cell_type": "markdown",
   "metadata": {},
   "source": [
    "## `for`-Schleifen\n"
   ]
  },
  {
   "cell_type": "markdown",
   "metadata": {},
   "source": [
    "Mit Schleifen kann ein Codeblock mehrmals ausgeführt werden. Die meistverwendete Schleife ist die `for`-Schleife mit folgender Syntax:\n",
    "\n",
    "```python\n",
    "for value in iterable:\n",
    "    # do things\n",
    "```\n",
    "\n",
    "`iterable` kann dabei eine beliebige _Reihe_ sein, also bspw. eine Liste, ein Tupel oder auch ein String:"
   ]
  },
  {
   "cell_type": "code",
   "execution_count": 39,
   "metadata": {},
   "outputs": [
    {
     "name": "stdout",
     "output_type": "stream",
     "text": [
      "3\n",
      "1.2\n",
      "a\n"
     ]
    }
   ],
   "source": [
    "for x in [3, 1.2, 'a']:\n",
    "    print(x)"
   ]
  },
  {
   "cell_type": "code",
   "execution_count": 40,
   "metadata": {},
   "outputs": [
    {
     "name": "stdout",
     "output_type": "stream",
     "text": [
      "h\n",
      "e\n",
      "l\n",
      "l\n",
      "o\n"
     ]
    }
   ],
   "source": [
    "for letter in 'hello':\n",
    "    print(letter)"
   ]
  },
  {
   "cell_type": "markdown",
   "metadata": {},
   "source": [
    "### Einen Codeblock `n`-mal ausführen\n",
    "\n",
    "Manchmal soll ein Codeblock eine bestimmte Zahl von Iterationen ausgeführt werden. Dazu können wir die `range` Funktion verwenden:"
   ]
  },
  {
   "cell_type": "code",
   "execution_count": 41,
   "metadata": {},
   "outputs": [
    {
     "name": "stdout",
     "output_type": "stream",
     "text": [
      "0\n",
      "1\n",
      "2\n",
      "3\n",
      "4\n"
     ]
    }
   ],
   "source": [
    "for i in range(5):\n",
    "    print(i)"
   ]
  },
  {
   "cell_type": "markdown",
   "metadata": {},
   "source": [
    "Du kannst nachschauen, wie die `range` Funktion definiert ist und welche Optionen sie bietet, indem du die `?`-Dokumentation aufrufst. Entferne das `#`-Zeichen und führe die Zelle aus:"
   ]
  },
  {
   "cell_type": "code",
   "execution_count": 42,
   "metadata": {},
   "outputs": [],
   "source": [
    "#range?"
   ]
  },
  {
   "cell_type": "markdown",
   "metadata": {},
   "source": [
    "Wir können die Funktion also auch mit den Argumenten `start`, `stop` und (optional) `step` aufrufen:"
   ]
  },
  {
   "cell_type": "code",
   "execution_count": 43,
   "metadata": {},
   "outputs": [
    {
     "name": "stdout",
     "output_type": "stream",
     "text": [
      "2\n",
      "4\n",
      "6\n",
      "8\n"
     ]
    }
   ],
   "source": [
    "for i in range(2, 10, 2):\n",
    "    print(i)"
   ]
  },
  {
   "cell_type": "markdown",
   "metadata": {},
   "source": [
    "### Eine Schleife abbrechen oder Schritte überspringen"
   ]
  },
  {
   "cell_type": "markdown",
   "metadata": {},
   "source": [
    "- Mit dem Befehl `break` kann eine Schleife abgebrochen werden:"
   ]
  },
  {
   "cell_type": "code",
   "execution_count": 44,
   "metadata": {},
   "outputs": [
    {
     "name": "stdout",
     "output_type": "stream",
     "text": [
      "0\n",
      "1\n",
      "2\n",
      "3\n"
     ]
    }
   ],
   "source": [
    "for i in range(100):\n",
    "    if i > 3:\n",
    "        break\n",
    "    print(i)"
   ]
  },
  {
   "cell_type": "markdown",
   "metadata": {},
   "source": [
    "- Mit dem Befehl `continue` wird lediglich der aktuelle Schritt der Schleife abgebrochen:"
   ]
  },
  {
   "cell_type": "code",
   "execution_count": 45,
   "metadata": {},
   "outputs": [
    {
     "name": "stdout",
     "output_type": "stream",
     "text": [
      "0\n",
      "2\n"
     ]
    }
   ],
   "source": [
    "for i in range(3):\n",
    "    if i == 1:\n",
    "        continue\n",
    "    print(i)"
   ]
  },
  {
   "cell_type": "markdown",
   "metadata": {},
   "source": [
    "### Listen mit `for`-Schleifen erstellen\n",
    "\n",
    "Ein sehr praktisches Konzept um in Python mit Listen zu arbeiten nennt sich _list comprehension_. Mit folgender Syntax wird eine Operation auf jedes Element der gegebenen Reihe angewendet. Zurückgegeben wird dann eine Liste mit den so berechneten Elementen:\n",
    "\n",
    "```python\n",
    "new_elements = [operation(element) for element in iterable]\n",
    "```\n",
    "\n",
    "Hier wird bspw. die Operation $x^2$ auf alle $x \\in [0,10]$ angewendet:"
   ]
  },
  {
   "cell_type": "code",
   "execution_count": 46,
   "metadata": {},
   "outputs": [
    {
     "data": {
      "text/plain": [
       "[0, 1, 4, 9, 16, 25, 36, 49, 64, 81, 100]"
      ]
     },
     "execution_count": 46,
     "metadata": {},
     "output_type": "execute_result"
    }
   ],
   "source": [
    "[x**2 for x in range(11)]"
   ]
  },
  {
   "cell_type": "markdown",
   "metadata": {},
   "source": [
    "## `while`-Schleifen\n",
    "\n",
    "Eine `while`-Schleife führt einen Codeblock so oft aus, bis eine Bedingung `False` ergibt und ist durch folgende Syntax definiert:\n",
    "\n",
    "```python\n",
    "while condition:\n",
    "    # do something\n",
    "```"
   ]
  },
  {
   "cell_type": "code",
   "execution_count": 47,
   "metadata": {},
   "outputs": [
    {
     "name": "stdout",
     "output_type": "stream",
     "text": [
      "a ist kleiner als 10 (1), multipliziere mit 1.5.\n",
      "a ist kleiner als 10 (1.5), multipliziere mit 1.5.\n",
      "a ist kleiner als 10 (2.25), multipliziere mit 1.5.\n",
      "a ist kleiner als 10 (3.375), multipliziere mit 1.5.\n",
      "a ist kleiner als 10 (5.0625), multipliziere mit 1.5.\n",
      "a ist kleiner als 10 (7.59375), multipliziere mit 1.5.\n",
      "Schleife beendet, a ist nun 11.390625.\n"
     ]
    }
   ],
   "source": [
    "a = 1\n",
    "while a < 10:\n",
    "    print(\"a ist kleiner als 10 ({}), multipliziere mit 1.5.\".format(a))\n",
    "    a = a * 1.5\n",
    "print(\"Schleife beendet, a ist nun {}.\".format(a))"
   ]
  }
 ],
 "metadata": {
  "kernelspec": {
   "display_name": "Python 3",
   "language": "python",
   "name": "python3"
  },
  "language_info": {
   "codemirror_mode": {
    "name": "ipython",
    "version": 3
   },
   "file_extension": ".py",
   "mimetype": "text/x-python",
   "name": "python",
   "nbconvert_exporter": "python",
   "pygments_lexer": "ipython3",
   "version": "3.7.4"
  }
 },
 "nbformat": 4,
 "nbformat_minor": 2
}
